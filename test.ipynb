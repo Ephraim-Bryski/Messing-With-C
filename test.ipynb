{
 "cells": [
  {
   "cell_type": "code",
   "execution_count": 1,
   "metadata": {},
   "outputs": [
    {
     "name": "stdout",
     "output_type": "stream",
     "text": [
      "01000001\n",
      "00000000\n",
      "00000000\n",
      "00000000\n"
     ]
    }
   ],
   "source": [
    "def group_into_bytes(number):\n",
    "\n",
    "    binary = bin(number)[2:]\n",
    "    extra = 8-len(binary)%8\n",
    "    binary = \"0\"*extra+binary\n",
    "\n",
    "    n_bytes = len(binary)/8\n",
    "\n",
    "    assert int(n_bytes)==n_bytes\n",
    "\n",
    "    for i in range(int(n_bytes)):\n",
    "        byte = binary[i*8:(i+1)*8]\n",
    "        print(byte)\n",
    "        #print(int(byte,2))\n",
    "        #print(hex(int(byte,2)))\n",
    "\n",
    "\n",
    "group_into_bytes(1090519040)"
   ]
  },
  {
   "cell_type": "code",
   "execution_count": 3,
   "metadata": {},
   "outputs": [
    {
     "data": {
      "text/plain": [
       "10"
      ]
     },
     "execution_count": 3,
     "metadata": {},
     "output_type": "execute_result"
    }
   ],
   "source": [
    "len(str(2**32))"
   ]
  },
  {
   "cell_type": "code",
   "execution_count": 20,
   "metadata": {},
   "outputs": [
    {
     "name": "stdout",
     "output_type": "stream",
     "text": [
      "01000001\n",
      "00000000\n",
      "00000000\n",
      "00000000\n"
     ]
    }
   ],
   "source": [
    "group_into_bytes(1090519040)"
   ]
  }
 ],
 "metadata": {
  "kernelspec": {
   "display_name": "Python 3",
   "language": "python",
   "name": "python3"
  },
  "language_info": {
   "codemirror_mode": {
    "name": "ipython",
    "version": 3
   },
   "file_extension": ".py",
   "mimetype": "text/x-python",
   "name": "python",
   "nbconvert_exporter": "python",
   "pygments_lexer": "ipython3",
   "version": "3.11.3"
  }
 },
 "nbformat": 4,
 "nbformat_minor": 2
}
